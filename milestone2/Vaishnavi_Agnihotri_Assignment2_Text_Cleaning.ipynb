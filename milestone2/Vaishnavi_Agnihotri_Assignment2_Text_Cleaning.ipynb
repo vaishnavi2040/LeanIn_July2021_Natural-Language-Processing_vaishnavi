{
  "nbformat": 4,
  "nbformat_minor": 0,
  "metadata": {
    "colab": {
      "name": "Vaishnavi_Agnihotri_Assignment2_Text_Cleaning.ipynb",
      "provenance": [],
      "collapsed_sections": []
    },
    "kernelspec": {
      "name": "python3",
      "display_name": "Python 3"
    },
    "language_info": {
      "name": "python"
    }
  },
  "cells": [
    {
      "cell_type": "code",
      "metadata": {
        "colab": {
          "base_uri": "https://localhost:8080/"
        },
        "id": "ejE3XWKP6tKn",
        "outputId": "5ff32b77-b9da-46d6-c921-2d66ee251303"
      },
      "source": [
        "import re\n",
        "import matplotlib\n",
        "import numpy as np\n",
        "import matplotlib.pyplot as plt\n",
        "import pandas as pd\n",
        "import string\n",
        "\n",
        "from nltk.corpus import stopwords\n",
        "import nltk\n",
        "import numba\n",
        "from numba import jit\n",
        "\n",
        "nltk.download('stopwords')\n",
        "nltk.download('punkt')\n",
        "nltk.download('averaged_perceptron_tagger')"
      ],
      "execution_count": 1,
      "outputs": [
        {
          "output_type": "stream",
          "text": [
            "[nltk_data] Downloading package stopwords to /root/nltk_data...\n",
            "[nltk_data]   Unzipping corpora/stopwords.zip.\n",
            "[nltk_data] Downloading package punkt to /root/nltk_data...\n",
            "[nltk_data]   Unzipping tokenizers/punkt.zip.\n",
            "[nltk_data] Downloading package averaged_perceptron_tagger to\n",
            "[nltk_data]     /root/nltk_data...\n",
            "[nltk_data]   Unzipping taggers/averaged_perceptron_tagger.zip.\n"
          ],
          "name": "stdout"
        },
        {
          "output_type": "execute_result",
          "data": {
            "text/plain": [
              "True"
            ]
          },
          "metadata": {
            "tags": []
          },
          "execution_count": 1
        }
      ]
    },
    {
      "cell_type": "code",
      "metadata": {
        "colab": {
          "base_uri": "https://localhost:8080/"
        },
        "id": "hI1LhkIO7DnU",
        "outputId": "b0bd1e3e-42e5-4591-9d8a-2c0cddb6ead0"
      },
      "source": [
        "!unzip english_dataset.zip\n",
        "!rm -rf english_dataset.zip"
      ],
      "execution_count": 2,
      "outputs": [
        {
          "output_type": "stream",
          "text": [
            "Archive:  english_dataset.zip\n",
            "   creating: english_dataset/\n",
            "  inflating: __MACOSX/._english_dataset  \n",
            "  inflating: english_dataset/english_dataset.tsv  \n",
            "  inflating: __MACOSX/english_dataset/._english_dataset.tsv  \n",
            "  inflating: english_dataset/hasoc2019_en_test-2919.tsv  \n",
            "  inflating: __MACOSX/english_dataset/._hasoc2019_en_test-2919.tsv  \n"
          ],
          "name": "stdout"
        }
      ]
    },
    {
      "cell_type": "code",
      "metadata": {
        "colab": {
          "base_uri": "https://localhost:8080/",
          "height": 363
        },
        "id": "S4Cxwbws8BGp",
        "outputId": "003c99ee-8f6b-4f85-efbe-9b8f54342e59"
      },
      "source": [
        "import pandas as pd\n",
        "data_en=pd.read_csv('/content/english_dataset/english_dataset.tsv',delimiter='\\t')\n",
        "data_en.head(10)"
      ],
      "execution_count": 3,
      "outputs": [
        {
          "output_type": "execute_result",
          "data": {
            "text/html": [
              "<div>\n",
              "<style scoped>\n",
              "    .dataframe tbody tr th:only-of-type {\n",
              "        vertical-align: middle;\n",
              "    }\n",
              "\n",
              "    .dataframe tbody tr th {\n",
              "        vertical-align: top;\n",
              "    }\n",
              "\n",
              "    .dataframe thead th {\n",
              "        text-align: right;\n",
              "    }\n",
              "</style>\n",
              "<table border=\"1\" class=\"dataframe\">\n",
              "  <thead>\n",
              "    <tr style=\"text-align: right;\">\n",
              "      <th></th>\n",
              "      <th>text_id</th>\n",
              "      <th>text</th>\n",
              "      <th>task_1</th>\n",
              "      <th>task_2</th>\n",
              "      <th>task_3</th>\n",
              "    </tr>\n",
              "  </thead>\n",
              "  <tbody>\n",
              "    <tr>\n",
              "      <th>0</th>\n",
              "      <td>hasoc_en_1</td>\n",
              "      <td>#DhoniKeepsTheGlove | WATCH: Sports Minister K...</td>\n",
              "      <td>NOT</td>\n",
              "      <td>NONE</td>\n",
              "      <td>NONE</td>\n",
              "    </tr>\n",
              "    <tr>\n",
              "      <th>1</th>\n",
              "      <td>hasoc_en_2</td>\n",
              "      <td>@politico No. We should remember very clearly ...</td>\n",
              "      <td>HOF</td>\n",
              "      <td>HATE</td>\n",
              "      <td>TIN</td>\n",
              "    </tr>\n",
              "    <tr>\n",
              "      <th>2</th>\n",
              "      <td>hasoc_en_3</td>\n",
              "      <td>@cricketworldcup Guess who would be the winner...</td>\n",
              "      <td>NOT</td>\n",
              "      <td>NONE</td>\n",
              "      <td>NONE</td>\n",
              "    </tr>\n",
              "    <tr>\n",
              "      <th>3</th>\n",
              "      <td>hasoc_en_4</td>\n",
              "      <td>Corbyn is too politically intellectual for #Bo...</td>\n",
              "      <td>NOT</td>\n",
              "      <td>NONE</td>\n",
              "      <td>NONE</td>\n",
              "    </tr>\n",
              "    <tr>\n",
              "      <th>4</th>\n",
              "      <td>hasoc_en_5</td>\n",
              "      <td>All the best to #TeamIndia for another swimmin...</td>\n",
              "      <td>NOT</td>\n",
              "      <td>NONE</td>\n",
              "      <td>NONE</td>\n",
              "    </tr>\n",
              "    <tr>\n",
              "      <th>5</th>\n",
              "      <td>hasoc_en_6</td>\n",
              "      <td>@kellymiller513 @TheRealOJ32 I hope you rememb...</td>\n",
              "      <td>NOT</td>\n",
              "      <td>NONE</td>\n",
              "      <td>NONE</td>\n",
              "    </tr>\n",
              "    <tr>\n",
              "      <th>6</th>\n",
              "      <td>hasoc_en_7</td>\n",
              "      <td>@ICC Latest design of #WC2019 trophy. #CWC2019...</td>\n",
              "      <td>NOT</td>\n",
              "      <td>NONE</td>\n",
              "      <td>NONE</td>\n",
              "    </tr>\n",
              "    <tr>\n",
              "      <th>7</th>\n",
              "      <td>hasoc_en_8</td>\n",
              "      <td>#ADOS #trendingnow #blacklivesmatter #justice ...</td>\n",
              "      <td>HOF</td>\n",
              "      <td>PRFN</td>\n",
              "      <td>TIN</td>\n",
              "    </tr>\n",
              "    <tr>\n",
              "      <th>8</th>\n",
              "      <td>hasoc_en_9</td>\n",
              "      <td>Thanks for your support! Wow 600k. Graffiti ha...</td>\n",
              "      <td>NOT</td>\n",
              "      <td>NONE</td>\n",
              "      <td>NONE</td>\n",
              "    </tr>\n",
              "    <tr>\n",
              "      <th>9</th>\n",
              "      <td>hasoc_en_10</td>\n",
              "      <td>By wearing the #BalidaanBadge over his gloves ...</td>\n",
              "      <td>NOT</td>\n",
              "      <td>NONE</td>\n",
              "      <td>NONE</td>\n",
              "    </tr>\n",
              "  </tbody>\n",
              "</table>\n",
              "</div>"
            ],
            "text/plain": [
              "       text_id                                               text  ... task_2 task_3\n",
              "0   hasoc_en_1  #DhoniKeepsTheGlove | WATCH: Sports Minister K...  ...   NONE   NONE\n",
              "1   hasoc_en_2  @politico No. We should remember very clearly ...  ...   HATE    TIN\n",
              "2   hasoc_en_3  @cricketworldcup Guess who would be the winner...  ...   NONE   NONE\n",
              "3   hasoc_en_4  Corbyn is too politically intellectual for #Bo...  ...   NONE   NONE\n",
              "4   hasoc_en_5  All the best to #TeamIndia for another swimmin...  ...   NONE   NONE\n",
              "5   hasoc_en_6  @kellymiller513 @TheRealOJ32 I hope you rememb...  ...   NONE   NONE\n",
              "6   hasoc_en_7  @ICC Latest design of #WC2019 trophy. #CWC2019...  ...   NONE   NONE\n",
              "7   hasoc_en_8  #ADOS #trendingnow #blacklivesmatter #justice ...  ...   PRFN    TIN\n",
              "8   hasoc_en_9  Thanks for your support! Wow 600k. Graffiti ha...  ...   NONE   NONE\n",
              "9  hasoc_en_10  By wearing the #BalidaanBadge over his gloves ...  ...   NONE   NONE\n",
              "\n",
              "[10 rows x 5 columns]"
            ]
          },
          "metadata": {
            "tags": []
          },
          "execution_count": 3
        }
      ]
    },
    {
      "cell_type": "markdown",
      "metadata": {
        "id": "JoGfXi1g85-b"
      },
      "source": [
        "**CONVERTING ALL LETTERS TO LOWERCASE OR UPPERCASE**"
      ]
    },
    {
      "cell_type": "code",
      "metadata": {
        "colab": {
          "base_uri": "https://localhost:8080/"
        },
        "id": "y6VHfCOK9Fo2",
        "outputId": "0b5fea42-0399-4b90-b263-465fa6d220e1"
      },
      "source": [
        "data_lower=data_en\n",
        "data_lower[\"text\"].str.lower()"
      ],
      "execution_count": 4,
      "outputs": [
        {
          "output_type": "execute_result",
          "data": {
            "text/plain": [
              "0       #dhonikeepstheglove | watch: sports minister k...\n",
              "1       @politico no. we should remember very clearly ...\n",
              "2       @cricketworldcup guess who would be the winner...\n",
              "3       corbyn is too politically intellectual for #bo...\n",
              "4       all the best to #teamindia for another swimmin...\n",
              "                              ...                        \n",
              "5847    @davidfrum @trueblueusa1 that's cute and all, ...\n",
              "5848    a recession issa comin' #maga #magamyass #fuck...\n",
              "5849    #doctorsfightback  will 'the mad n irrational ...\n",
              "5850    #shiningindia #educatedindia or more like rund...\n",
              "5851    could this be our new prime minister?     #ric...\n",
              "Name: text, Length: 5852, dtype: object"
            ]
          },
          "metadata": {
            "tags": []
          },
          "execution_count": 4
        }
      ]
    },
    {
      "cell_type": "markdown",
      "metadata": {
        "id": "gqfF06i09end"
      },
      "source": [
        "**Removing numbers**"
      ]
    },
    {
      "cell_type": "code",
      "metadata": {
        "colab": {
          "base_uri": "https://localhost:8080/",
          "height": 363
        },
        "id": "WGhjtlPb9m0m",
        "outputId": "98d45bf0-ba7a-4e5a-c87d-9d1962e22dd8"
      },
      "source": [
        "english_en=pd.read_csv('/content/english_dataset/english_dataset.tsv',delimiter='\\t')\n",
        "english_num=english_en\n",
        "english_num['text']=english_num['text'].str.replace('\\d+',' ')\n",
        "english_en.head(10)"
      ],
      "execution_count": 5,
      "outputs": [
        {
          "output_type": "execute_result",
          "data": {
            "text/html": [
              "<div>\n",
              "<style scoped>\n",
              "    .dataframe tbody tr th:only-of-type {\n",
              "        vertical-align: middle;\n",
              "    }\n",
              "\n",
              "    .dataframe tbody tr th {\n",
              "        vertical-align: top;\n",
              "    }\n",
              "\n",
              "    .dataframe thead th {\n",
              "        text-align: right;\n",
              "    }\n",
              "</style>\n",
              "<table border=\"1\" class=\"dataframe\">\n",
              "  <thead>\n",
              "    <tr style=\"text-align: right;\">\n",
              "      <th></th>\n",
              "      <th>text_id</th>\n",
              "      <th>text</th>\n",
              "      <th>task_1</th>\n",
              "      <th>task_2</th>\n",
              "      <th>task_3</th>\n",
              "    </tr>\n",
              "  </thead>\n",
              "  <tbody>\n",
              "    <tr>\n",
              "      <th>0</th>\n",
              "      <td>hasoc_en_1</td>\n",
              "      <td>#DhoniKeepsTheGlove | WATCH: Sports Minister K...</td>\n",
              "      <td>NOT</td>\n",
              "      <td>NONE</td>\n",
              "      <td>NONE</td>\n",
              "    </tr>\n",
              "    <tr>\n",
              "      <th>1</th>\n",
              "      <td>hasoc_en_2</td>\n",
              "      <td>@politico No. We should remember very clearly ...</td>\n",
              "      <td>HOF</td>\n",
              "      <td>HATE</td>\n",
              "      <td>TIN</td>\n",
              "    </tr>\n",
              "    <tr>\n",
              "      <th>2</th>\n",
              "      <td>hasoc_en_3</td>\n",
              "      <td>@cricketworldcup Guess who would be the winner...</td>\n",
              "      <td>NOT</td>\n",
              "      <td>NONE</td>\n",
              "      <td>NONE</td>\n",
              "    </tr>\n",
              "    <tr>\n",
              "      <th>3</th>\n",
              "      <td>hasoc_en_4</td>\n",
              "      <td>Corbyn is too politically intellectual for #Bo...</td>\n",
              "      <td>NOT</td>\n",
              "      <td>NONE</td>\n",
              "      <td>NONE</td>\n",
              "    </tr>\n",
              "    <tr>\n",
              "      <th>4</th>\n",
              "      <td>hasoc_en_5</td>\n",
              "      <td>All the best to #TeamIndia for another swimmin...</td>\n",
              "      <td>NOT</td>\n",
              "      <td>NONE</td>\n",
              "      <td>NONE</td>\n",
              "    </tr>\n",
              "    <tr>\n",
              "      <th>5</th>\n",
              "      <td>hasoc_en_6</td>\n",
              "      <td>@kellymiller  @TheRealOJ  I hope you remembere...</td>\n",
              "      <td>NOT</td>\n",
              "      <td>NONE</td>\n",
              "      <td>NONE</td>\n",
              "    </tr>\n",
              "    <tr>\n",
              "      <th>6</th>\n",
              "      <td>hasoc_en_7</td>\n",
              "      <td>@ICC Latest design of #WC  trophy. #CWC  #CWC ...</td>\n",
              "      <td>NOT</td>\n",
              "      <td>NONE</td>\n",
              "      <td>NONE</td>\n",
              "    </tr>\n",
              "    <tr>\n",
              "      <th>7</th>\n",
              "      <td>hasoc_en_8</td>\n",
              "      <td>#ADOS #trendingnow #blacklivesmatter #justice ...</td>\n",
              "      <td>HOF</td>\n",
              "      <td>PRFN</td>\n",
              "      <td>TIN</td>\n",
              "    </tr>\n",
              "    <tr>\n",
              "      <th>8</th>\n",
              "      <td>hasoc_en_9</td>\n",
              "      <td>Thanks for your support! Wow  k. Graffiti has ...</td>\n",
              "      <td>NOT</td>\n",
              "      <td>NONE</td>\n",
              "      <td>NONE</td>\n",
              "    </tr>\n",
              "    <tr>\n",
              "      <th>9</th>\n",
              "      <td>hasoc_en_10</td>\n",
              "      <td>By wearing the #BalidaanBadge over his gloves ...</td>\n",
              "      <td>NOT</td>\n",
              "      <td>NONE</td>\n",
              "      <td>NONE</td>\n",
              "    </tr>\n",
              "  </tbody>\n",
              "</table>\n",
              "</div>"
            ],
            "text/plain": [
              "       text_id                                               text  ... task_2 task_3\n",
              "0   hasoc_en_1  #DhoniKeepsTheGlove | WATCH: Sports Minister K...  ...   NONE   NONE\n",
              "1   hasoc_en_2  @politico No. We should remember very clearly ...  ...   HATE    TIN\n",
              "2   hasoc_en_3  @cricketworldcup Guess who would be the winner...  ...   NONE   NONE\n",
              "3   hasoc_en_4  Corbyn is too politically intellectual for #Bo...  ...   NONE   NONE\n",
              "4   hasoc_en_5  All the best to #TeamIndia for another swimmin...  ...   NONE   NONE\n",
              "5   hasoc_en_6  @kellymiller  @TheRealOJ  I hope you remembere...  ...   NONE   NONE\n",
              "6   hasoc_en_7  @ICC Latest design of #WC  trophy. #CWC  #CWC ...  ...   NONE   NONE\n",
              "7   hasoc_en_8  #ADOS #trendingnow #blacklivesmatter #justice ...  ...   PRFN    TIN\n",
              "8   hasoc_en_9  Thanks for your support! Wow  k. Graffiti has ...  ...   NONE   NONE\n",
              "9  hasoc_en_10  By wearing the #BalidaanBadge over his gloves ...  ...   NONE   NONE\n",
              "\n",
              "[10 rows x 5 columns]"
            ]
          },
          "metadata": {
            "tags": []
          },
          "execution_count": 5
        }
      ]
    },
    {
      "cell_type": "markdown",
      "metadata": {
        "id": "bkBknDwA-bq9"
      },
      "source": [
        "**Removing punctuations**"
      ]
    },
    {
      "cell_type": "code",
      "metadata": {
        "colab": {
          "base_uri": "https://localhost:8080/",
          "height": 519
        },
        "id": "d7vfKM-B-iS8",
        "outputId": "5d586e9c-ad4c-4204-d662-06079d85c21e"
      },
      "source": [
        "english_en=pd.read_csv('/content/english_dataset/english_dataset.tsv',delimiter='\\t')\n",
        "puntuations='''''!()-[]{};:'\"\\,<>./?@#$%^&*_~'''\n",
        "english_punc=english_en\n",
        "english_punc['text']=english_punc['text'].str.replace('[^\\w\\s]','')\n",
        "english_en.head(15)"
      ],
      "execution_count": null,
      "outputs": [
        {
          "output_type": "execute_result",
          "data": {
            "text/html": [
              "<div>\n",
              "<style scoped>\n",
              "    .dataframe tbody tr th:only-of-type {\n",
              "        vertical-align: middle;\n",
              "    }\n",
              "\n",
              "    .dataframe tbody tr th {\n",
              "        vertical-align: top;\n",
              "    }\n",
              "\n",
              "    .dataframe thead th {\n",
              "        text-align: right;\n",
              "    }\n",
              "</style>\n",
              "<table border=\"1\" class=\"dataframe\">\n",
              "  <thead>\n",
              "    <tr style=\"text-align: right;\">\n",
              "      <th></th>\n",
              "      <th>text_id</th>\n",
              "      <th>text</th>\n",
              "      <th>task_1</th>\n",
              "      <th>task_2</th>\n",
              "      <th>task_3</th>\n",
              "    </tr>\n",
              "  </thead>\n",
              "  <tbody>\n",
              "    <tr>\n",
              "      <th>0</th>\n",
              "      <td>hasoc_en_1</td>\n",
              "      <td>DhoniKeepsTheGlove  WATCH Sports Minister Kire...</td>\n",
              "      <td>NOT</td>\n",
              "      <td>NONE</td>\n",
              "      <td>NONE</td>\n",
              "    </tr>\n",
              "    <tr>\n",
              "      <th>1</th>\n",
              "      <td>hasoc_en_2</td>\n",
              "      <td>politico No We should remember very clearly th...</td>\n",
              "      <td>HOF</td>\n",
              "      <td>HATE</td>\n",
              "      <td>TIN</td>\n",
              "    </tr>\n",
              "    <tr>\n",
              "      <th>2</th>\n",
              "      <td>hasoc_en_3</td>\n",
              "      <td>cricketworldcup Guess who would be the winner ...</td>\n",
              "      <td>NOT</td>\n",
              "      <td>NONE</td>\n",
              "      <td>NONE</td>\n",
              "    </tr>\n",
              "    <tr>\n",
              "      <th>3</th>\n",
              "      <td>hasoc_en_4</td>\n",
              "      <td>Corbyn is too politically intellectual for Bor...</td>\n",
              "      <td>NOT</td>\n",
              "      <td>NONE</td>\n",
              "      <td>NONE</td>\n",
              "    </tr>\n",
              "    <tr>\n",
              "      <th>4</th>\n",
              "      <td>hasoc_en_5</td>\n",
              "      <td>All the best to TeamIndia for another swimming...</td>\n",
              "      <td>NOT</td>\n",
              "      <td>NONE</td>\n",
              "      <td>NONE</td>\n",
              "    </tr>\n",
              "    <tr>\n",
              "      <th>5</th>\n",
              "      <td>hasoc_en_6</td>\n",
              "      <td>kellymiller513 TheRealOJ32 I hope you remember...</td>\n",
              "      <td>NOT</td>\n",
              "      <td>NONE</td>\n",
              "      <td>NONE</td>\n",
              "    </tr>\n",
              "    <tr>\n",
              "      <th>6</th>\n",
              "      <td>hasoc_en_7</td>\n",
              "      <td>ICC Latest design of WC2019 trophy CWC2019 CWC...</td>\n",
              "      <td>NOT</td>\n",
              "      <td>NONE</td>\n",
              "      <td>NONE</td>\n",
              "    </tr>\n",
              "    <tr>\n",
              "      <th>7</th>\n",
              "      <td>hasoc_en_8</td>\n",
              "      <td>ADOS trendingnow blacklivesmatter justice fuck...</td>\n",
              "      <td>HOF</td>\n",
              "      <td>PRFN</td>\n",
              "      <td>TIN</td>\n",
              "    </tr>\n",
              "    <tr>\n",
              "      <th>8</th>\n",
              "      <td>hasoc_en_9</td>\n",
              "      <td>Thanks for your support Wow 600k Graffiti has ...</td>\n",
              "      <td>NOT</td>\n",
              "      <td>NONE</td>\n",
              "      <td>NONE</td>\n",
              "    </tr>\n",
              "    <tr>\n",
              "      <th>9</th>\n",
              "      <td>hasoc_en_10</td>\n",
              "      <td>By wearing the BalidaanBadge over his gloves m...</td>\n",
              "      <td>NOT</td>\n",
              "      <td>NONE</td>\n",
              "      <td>NONE</td>\n",
              "    </tr>\n",
              "    <tr>\n",
              "      <th>10</th>\n",
              "      <td>hasoc_en_11</td>\n",
              "      <td>Mahendra Singh Dhonis love for the Nation Arme...</td>\n",
              "      <td>NOT</td>\n",
              "      <td>NONE</td>\n",
              "      <td>NONE</td>\n",
              "    </tr>\n",
              "    <tr>\n",
              "      <th>11</th>\n",
              "      <td>hasoc_en_12</td>\n",
              "      <td>I dont know how much more I can take 45 is a c...</td>\n",
              "      <td>HOF</td>\n",
              "      <td>HATE</td>\n",
              "      <td>TIN</td>\n",
              "    </tr>\n",
              "    <tr>\n",
              "      <th>12</th>\n",
              "      <td>hasoc_en_13</td>\n",
              "      <td>ShameOnICCICC WINNER TEAMRAIN  ICC RUN UP TEAM...</td>\n",
              "      <td>NOT</td>\n",
              "      <td>NONE</td>\n",
              "      <td>NONE</td>\n",
              "    </tr>\n",
              "    <tr>\n",
              "      <th>13</th>\n",
              "      <td>hasoc_en_14</td>\n",
              "      <td>narendramodi  pmoindia_namo  narendramodi  PMO...</td>\n",
              "      <td>NOT</td>\n",
              "      <td>NONE</td>\n",
              "      <td>NONE</td>\n",
              "    </tr>\n",
              "    <tr>\n",
              "      <th>14</th>\n",
              "      <td>hasoc_en_15</td>\n",
              "      <td>ICC denies request from BCCI to allow MSD wear...</td>\n",
              "      <td>NOT</td>\n",
              "      <td>NONE</td>\n",
              "      <td>NONE</td>\n",
              "    </tr>\n",
              "  </tbody>\n",
              "</table>\n",
              "</div>"
            ],
            "text/plain": [
              "        text_id  ... task_3\n",
              "0    hasoc_en_1  ...   NONE\n",
              "1    hasoc_en_2  ...    TIN\n",
              "2    hasoc_en_3  ...   NONE\n",
              "3    hasoc_en_4  ...   NONE\n",
              "4    hasoc_en_5  ...   NONE\n",
              "5    hasoc_en_6  ...   NONE\n",
              "6    hasoc_en_7  ...   NONE\n",
              "7    hasoc_en_8  ...    TIN\n",
              "8    hasoc_en_9  ...   NONE\n",
              "9   hasoc_en_10  ...   NONE\n",
              "10  hasoc_en_11  ...   NONE\n",
              "11  hasoc_en_12  ...    TIN\n",
              "12  hasoc_en_13  ...   NONE\n",
              "13  hasoc_en_14  ...   NONE\n",
              "14  hasoc_en_15  ...   NONE\n",
              "\n",
              "[15 rows x 5 columns]"
            ]
          },
          "metadata": {
            "tags": []
          },
          "execution_count": 14
        }
      ]
    },
    {
      "cell_type": "markdown",
      "metadata": {
        "id": "mp88vGu__yOX"
      },
      "source": [
        "**Removing Stopwords**"
      ]
    },
    {
      "cell_type": "code",
      "metadata": {
        "colab": {
          "base_uri": "https://localhost:8080/"
        },
        "id": "k7-fl5gszuZ7",
        "outputId": "d738b41b-ddf3-40a9-e1f0-f02c9a4d24d0"
      },
      "source": [
        "from nltk.tokenize import word_tokenize\n",
        "english_en=pd.read_csv('/content/english_dataset/english_dataset.tsv',delimiter='\\t')\n",
        "stop=stopwords.words('english')\n",
        "english_en['text']=english_en['text'].apply(word_tokenize)\n",
        "english_en['text']=english_en['text'].apply(lambda x:[item for item in x if item not in stop])\n",
        "english_en['text'].head(10)\n"
      ],
      "execution_count": 7,
      "outputs": [
        {
          "output_type": "execute_result",
          "data": {
            "text/plain": [
              "0    [#, DhoniKeepsTheGlove, |, WATCH, :, Sports, M...\n",
              "1    [@, politico, No, ., We, remember, clearly, #,...\n",
              "2    [@, cricketworldcup, Guess, would, winner, #, ...\n",
              "3    [Corbyn, politically, intellectual, #, BorisJo...\n",
              "4    [All, best, #, TeamIndia, another, swimming, c...\n",
              "5    [@, kellymiller513, @, TheRealOJ32, I, hope, r...\n",
              "6    [@, ICC, Latest, design, #, WC2019, trophy, .,...\n",
              "7    [#, ADOS, #, trendingnow, #, blacklivesmatter,...\n",
              "8    [Thanks, support, !, Wow, 600k, ., Graffiti, m...\n",
              "9    [By, wearing, #, BalidaanBadge, gloves, @, msd...\n",
              "Name: text, dtype: object"
            ]
          },
          "metadata": {
            "tags": []
          },
          "execution_count": 7
        }
      ]
    },
    {
      "cell_type": "markdown",
      "metadata": {
        "id": "6r1RI4xF1e3C"
      },
      "source": [
        "**Removing white spaces**"
      ]
    },
    {
      "cell_type": "code",
      "metadata": {
        "colab": {
          "base_uri": "https://localhost:8080/"
        },
        "id": "Li7oRpAn3Xny",
        "outputId": "6bb6a48e-c02f-43a2-85c4-600cdfee6be4"
      },
      "source": [
        "english_en=pd.read_csv('/content/english_dataset/english_dataset.tsv',delimiter='\\t')\n",
        "english_white=english_en\n",
        "english_white['text']=english_white['text'].str.strip()\n",
        "english_white['text']"
      ],
      "execution_count": 8,
      "outputs": [
        {
          "output_type": "execute_result",
          "data": {
            "text/plain": [
              "0       #DhoniKeepsTheGlove | WATCH: Sports Minister K...\n",
              "1       @politico No. We should remember very clearly ...\n",
              "2       @cricketworldcup Guess who would be the winner...\n",
              "3       Corbyn is too politically intellectual for #Bo...\n",
              "4       All the best to #TeamIndia for another swimmin...\n",
              "                              ...                        \n",
              "5847    @davidfrum @trueblueusa1 That's cute and all, ...\n",
              "5848    a recession issa comin' #maga #magamyass #fuck...\n",
              "5849    #DoctorsFightBack  Will 'The Mad n Irrational ...\n",
              "5850    #ShiningIndia #educatedindia or more like RUND...\n",
              "5851    Could this be our new Prime Minister?     #Ric...\n",
              "Name: text, Length: 5852, dtype: object"
            ]
          },
          "metadata": {
            "tags": []
          },
          "execution_count": 8
        }
      ]
    }
  ]
}